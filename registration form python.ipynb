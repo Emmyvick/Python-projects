{
 "cells": [
  {
   "cell_type": "code",
   "execution_count": null,
   "metadata": {},
   "outputs": [
    {
     "name": "stdout",
     "output_type": "stream",
     "text": [
      "Accepted\n"
     ]
    }
   ],
   "source": [
    "from tkinter import *\n",
    "root = Tk()\n",
    "root.geometry(\"500x300\")\n",
    "\n",
    "def getvals():\n",
    "    print(\"Accepted\")\n",
    "\n",
    "# Heading\n",
    "\n",
    "Label(root,text=\"Python Registration form\", font=\"ar 15 bold\").grid(row=0,column=3)\n",
    "\n",
    "# Field name\n",
    "\n",
    "name = Label(root,text=\"Name\")\n",
    "phone = Label(root,text=\"Phone\")\n",
    "gender = Label(root,text=\"Gender\")\n",
    "location =Label(root,text=\"Location\")\n",
    "country =Label(root,text=\"Country\")\n",
    "\n",
    "\n",
    "name.grid(row =1, column=2)\n",
    "phone.grid(row =2, column=2)\n",
    "gender.grid(row =3, column=2)\n",
    "location.grid(row =4, column=2)\n",
    "country.grid(row =5, column=2)\n",
    "\n",
    "# To store Data\n",
    "\n",
    "namevalue = StringVar\n",
    "phonevalue = StringVar\n",
    "gendervalue = StringVar\n",
    "locationvalue = StringVar\n",
    "countryvalue = StringVar\n",
    "checkvalue = IntVar\n",
    "\n",
    "# Entry Fields\n",
    "nameentry = Entry(root, textvariable = namevalue)\n",
    "phoneentry = Entry(root, textvariable = phonevalue)\n",
    "genderentry= Entry(root, textvariable = gendervalue)\n",
    "locationentry = Entry(root, textvariable = locationvalue)\n",
    "countryentry = Entry(root, textvariable = countryvalue)\n",
    "\n",
    "nameentry.grid(row =1, column=3)\n",
    "phoneentry.grid(row =2, column=3)\n",
    "genderentry.grid(row =3, column=3)\n",
    "locationentry.grid(row =4, column=3)\n",
    "countryentry.grid(row =5, column=3)\n",
    "\n",
    "# check box\n",
    "\n",
    "checkbtn =Checkbutton(text=\"remember me ?\", variable = checkvalue)\n",
    "checkbtn.grid(row =6, column=3)\n",
    "\n",
    "#submit button\n",
    "Button(text =\"submit\", command=getvals).grid(row=7, column =3)\n",
    "\n",
    "\n",
    "\n",
    "\n",
    "root.mainloop()"
   ]
  },
  {
   "cell_type": "code",
   "execution_count": null,
   "metadata": {},
   "outputs": [],
   "source": []
  },
  {
   "cell_type": "code",
   "execution_count": null,
   "metadata": {},
   "outputs": [],
   "source": []
  }
 ],
 "metadata": {
  "kernelspec": {
   "display_name": "Python 3",
   "language": "python",
   "name": "python3"
  },
  "language_info": {
   "codemirror_mode": {
    "name": "ipython",
    "version": 3
   },
   "file_extension": ".py",
   "mimetype": "text/x-python",
   "name": "python",
   "nbconvert_exporter": "python",
   "pygments_lexer": "ipython3",
   "version": "3.7.0"
  }
 },
 "nbformat": 4,
 "nbformat_minor": 2
}
