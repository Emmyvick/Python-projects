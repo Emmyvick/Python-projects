{
 "cells": [
  {
   "cell_type": "code",
   "execution_count": 1,
   "metadata": {},
   "outputs": [],
   "source": [
    "from pandas import DataFrame\n"
   ]
  },
  {
   "cell_type": "code",
   "execution_count": 12,
   "metadata": {},
   "outputs": [],
   "source": [
    "data = {\n",
    "    \"Teams\":[\"MANCITY\", \"MANUTD\",\"LIVERPOOL\",\"CHELSEA\",\"SPURS\",\"ARSENAL\",\"LEICEISTER\",\"WESTHAM\",\"ASTONVILLA\",\"CRYSTALPALACE\",\"BRIGHTON\",\"EVERTON\",\"FULHAM\",\"BOURNEMOTH\"],\n",
    "    \"points\":[94,88,86,80,79,73,72,68,64,61,58,53,49,44],\n",
    "    \"G.D\" :[86,78,77,70,67,65,66,56,45,33,31,23,22,34]\n",
    "}\n",
    "\n",
    "LeagueTable = DataFrame(data,index = [1,2,3,4,5,6,7,8,9,10,11,12,13,14])"
   ]
  },
  {
   "cell_type": "code",
   "execution_count": 13,
   "metadata": {},
   "outputs": [
    {
     "name": "stdout",
     "output_type": "stream",
     "text": [
      "            Teams  points  G.D\n",
      "1         MANCITY      94   86\n",
      "2          MANUTD      88   78\n",
      "3       LIVERPOOL      86   77\n",
      "4         CHELSEA      80   70\n",
      "5           SPURS      79   67\n",
      "6         ARSENAL      73   65\n",
      "7      LEICEISTER      72   66\n",
      "8         WESTHAM      68   56\n",
      "9      ASTONVILLA      64   45\n",
      "10  CRYSTALPALACE      61   33\n",
      "11       BRIGHTON      58   31\n",
      "12        EVERTON      53   23\n",
      "13         FULHAM      49   22\n",
      "14     BOURNEMOTH      44   34\n"
     ]
    }
   ],
   "source": [
    "print(LeagueTable)"
   ]
  },
  {
   "cell_type": "code",
   "execution_count": 16,
   "metadata": {},
   "outputs": [
    {
     "data": {
      "text/html": [
       "<div>\n",
       "<style scoped>\n",
       "    .dataframe tbody tr th:only-of-type {\n",
       "        vertical-align: middle;\n",
       "    }\n",
       "\n",
       "    .dataframe tbody tr th {\n",
       "        vertical-align: top;\n",
       "    }\n",
       "\n",
       "    .dataframe thead th {\n",
       "        text-align: right;\n",
       "    }\n",
       "</style>\n",
       "<table border=\"1\" class=\"dataframe\">\n",
       "  <thead>\n",
       "    <tr style=\"text-align: right;\">\n",
       "      <th></th>\n",
       "      <th>Teams</th>\n",
       "      <th>points</th>\n",
       "      <th>G.D</th>\n",
       "    </tr>\n",
       "  </thead>\n",
       "  <tbody>\n",
       "    <tr>\n",
       "      <th>11</th>\n",
       "      <td>BRIGHTON</td>\n",
       "      <td>58</td>\n",
       "      <td>31</td>\n",
       "    </tr>\n",
       "    <tr>\n",
       "      <th>12</th>\n",
       "      <td>EVERTON</td>\n",
       "      <td>53</td>\n",
       "      <td>23</td>\n",
       "    </tr>\n",
       "    <tr>\n",
       "      <th>13</th>\n",
       "      <td>FULHAM</td>\n",
       "      <td>49</td>\n",
       "      <td>22</td>\n",
       "    </tr>\n",
       "    <tr>\n",
       "      <th>14</th>\n",
       "      <td>BOURNEMOTH</td>\n",
       "      <td>44</td>\n",
       "      <td>34</td>\n",
       "    </tr>\n",
       "  </tbody>\n",
       "</table>\n",
       "</div>"
      ],
      "text/plain": [
       "         Teams  points  G.D\n",
       "11    BRIGHTON      58   31\n",
       "12     EVERTON      53   23\n",
       "13      FULHAM      49   22\n",
       "14  BOURNEMOTH      44   34"
      ]
     },
     "execution_count": 16,
     "metadata": {},
     "output_type": "execute_result"
    }
   ],
   "source": [
    "LeagueTable.tail(4)"
   ]
  },
  {
   "cell_type": "code",
   "execution_count": 17,
   "metadata": {},
   "outputs": [
    {
     "data": {
      "text/plain": [
       "1           MANCITY\n",
       "2            MANUTD\n",
       "3         LIVERPOOL\n",
       "4           CHELSEA\n",
       "5             SPURS\n",
       "6           ARSENAL\n",
       "7        LEICEISTER\n",
       "8           WESTHAM\n",
       "9        ASTONVILLA\n",
       "10    CRYSTALPALACE\n",
       "11         BRIGHTON\n",
       "12          EVERTON\n",
       "13           FULHAM\n",
       "14       BOURNEMOTH\n",
       "Name: Teams, dtype: object"
      ]
     },
     "execution_count": 17,
     "metadata": {},
     "output_type": "execute_result"
    }
   ],
   "source": [
    "LeagueTable[\"Teams\"]"
   ]
  },
  {
   "cell_type": "code",
   "execution_count": 18,
   "metadata": {},
   "outputs": [
    {
     "data": {
      "text/plain": [
       "Teams     SPURS\n",
       "points       79\n",
       "G.D          67\n",
       "Name: 5, dtype: object"
      ]
     },
     "execution_count": 18,
     "metadata": {},
     "output_type": "execute_result"
    }
   ],
   "source": [
    "LeagueTable.loc[5]"
   ]
  },
  {
   "cell_type": "code",
   "execution_count": 19,
   "metadata": {},
   "outputs": [
    {
     "data": {
      "text/html": [
       "<div>\n",
       "<style scoped>\n",
       "    .dataframe tbody tr th:only-of-type {\n",
       "        vertical-align: middle;\n",
       "    }\n",
       "\n",
       "    .dataframe tbody tr th {\n",
       "        vertical-align: top;\n",
       "    }\n",
       "\n",
       "    .dataframe thead th {\n",
       "        text-align: right;\n",
       "    }\n",
       "</style>\n",
       "<table border=\"1\" class=\"dataframe\">\n",
       "  <thead>\n",
       "    <tr style=\"text-align: right;\">\n",
       "      <th></th>\n",
       "      <th>Teams</th>\n",
       "      <th>points</th>\n",
       "      <th>G.D</th>\n",
       "    </tr>\n",
       "  </thead>\n",
       "  <tbody>\n",
       "    <tr>\n",
       "      <th>1</th>\n",
       "      <td>MANCITY</td>\n",
       "      <td>94</td>\n",
       "      <td>86</td>\n",
       "    </tr>\n",
       "    <tr>\n",
       "      <th>2</th>\n",
       "      <td>MANUTD</td>\n",
       "      <td>88</td>\n",
       "      <td>78</td>\n",
       "    </tr>\n",
       "    <tr>\n",
       "      <th>3</th>\n",
       "      <td>LIVERPOOL</td>\n",
       "      <td>86</td>\n",
       "      <td>77</td>\n",
       "    </tr>\n",
       "    <tr>\n",
       "      <th>4</th>\n",
       "      <td>CHELSEA</td>\n",
       "      <td>80</td>\n",
       "      <td>70</td>\n",
       "    </tr>\n",
       "    <tr>\n",
       "      <th>5</th>\n",
       "      <td>SPURS</td>\n",
       "      <td>79</td>\n",
       "      <td>67</td>\n",
       "    </tr>\n",
       "    <tr>\n",
       "      <th>6</th>\n",
       "      <td>ARSENAL</td>\n",
       "      <td>73</td>\n",
       "      <td>65</td>\n",
       "    </tr>\n",
       "    <tr>\n",
       "      <th>7</th>\n",
       "      <td>LEICEISTER</td>\n",
       "      <td>72</td>\n",
       "      <td>66</td>\n",
       "    </tr>\n",
       "    <tr>\n",
       "      <th>8</th>\n",
       "      <td>WESTHAM</td>\n",
       "      <td>68</td>\n",
       "      <td>56</td>\n",
       "    </tr>\n",
       "    <tr>\n",
       "      <th>9</th>\n",
       "      <td>ASTONVILLA</td>\n",
       "      <td>64</td>\n",
       "      <td>45</td>\n",
       "    </tr>\n",
       "    <tr>\n",
       "      <th>10</th>\n",
       "      <td>CRYSTALPALACE</td>\n",
       "      <td>61</td>\n",
       "      <td>33</td>\n",
       "    </tr>\n",
       "    <tr>\n",
       "      <th>11</th>\n",
       "      <td>BRIGHTON</td>\n",
       "      <td>58</td>\n",
       "      <td>31</td>\n",
       "    </tr>\n",
       "    <tr>\n",
       "      <th>12</th>\n",
       "      <td>EVERTON</td>\n",
       "      <td>53</td>\n",
       "      <td>23</td>\n",
       "    </tr>\n",
       "    <tr>\n",
       "      <th>13</th>\n",
       "      <td>FULHAM</td>\n",
       "      <td>49</td>\n",
       "      <td>22</td>\n",
       "    </tr>\n",
       "    <tr>\n",
       "      <th>14</th>\n",
       "      <td>BOURNEMOTH</td>\n",
       "      <td>44</td>\n",
       "      <td>34</td>\n",
       "    </tr>\n",
       "  </tbody>\n",
       "</table>\n",
       "</div>"
      ],
      "text/plain": [
       "            Teams  points  G.D\n",
       "1         MANCITY      94   86\n",
       "2          MANUTD      88   78\n",
       "3       LIVERPOOL      86   77\n",
       "4         CHELSEA      80   70\n",
       "5           SPURS      79   67\n",
       "6         ARSENAL      73   65\n",
       "7      LEICEISTER      72   66\n",
       "8         WESTHAM      68   56\n",
       "9      ASTONVILLA      64   45\n",
       "10  CRYSTALPALACE      61   33\n",
       "11       BRIGHTON      58   31\n",
       "12        EVERTON      53   23\n",
       "13         FULHAM      49   22\n",
       "14     BOURNEMOTH      44   34"
      ]
     },
     "execution_count": 19,
     "metadata": {},
     "output_type": "execute_result"
    }
   ],
   "source": [
    "LeagueTable\n"
   ]
  },
  {
   "cell_type": "code",
   "execution_count": null,
   "metadata": {},
   "outputs": [],
   "source": []
  },
  {
   "cell_type": "code",
   "execution_count": 32,
   "metadata": {},
   "outputs": [
    {
     "data": {
      "text/plain": [
       "12"
      ]
     },
     "execution_count": 32,
     "metadata": {},
     "output_type": "execute_result"
    }
   ],
   "source": [
    "a =3\n",
    "b =9\n",
    "a+b "
   ]
  },
  {
   "cell_type": "code",
   "execution_count": 33,
   "metadata": {},
   "outputs": [
    {
     "data": {
      "text/plain": [
       "False"
      ]
     },
     "execution_count": 33,
     "metadata": {},
     "output_type": "execute_result"
    }
   ],
   "source": [
    "a>b"
   ]
  },
  {
   "cell_type": "code",
   "execution_count": null,
   "metadata": {},
   "outputs": [],
   "source": []
  },
  {
   "cell_type": "code",
   "execution_count": null,
   "metadata": {},
   "outputs": [],
   "source": []
  },
  {
   "cell_type": "code",
   "execution_count": null,
   "metadata": {},
   "outputs": [],
   "source": []
  },
  {
   "cell_type": "code",
   "execution_count": null,
   "metadata": {},
   "outputs": [],
   "source": []
  },
  {
   "cell_type": "code",
   "execution_count": null,
   "metadata": {},
   "outputs": [],
   "source": []
  },
  {
   "cell_type": "code",
   "execution_count": 34,
   "metadata": {},
   "outputs": [
    {
     "ename": "SyntaxError",
     "evalue": "invalid syntax (<ipython-input-34-74a5d0a0d2de>, line 11)",
     "output_type": "error",
     "traceback": [
      "\u001b[1;36m  File \u001b[1;32m\"<ipython-input-34-74a5d0a0d2de>\"\u001b[1;36m, line \u001b[1;32m11\u001b[0m\n\u001b[1;33m    commands:\u001b[0m\n\u001b[1;37m             ^\u001b[0m\n\u001b[1;31mSyntaxError\u001b[0m\u001b[1;31m:\u001b[0m invalid syntax\n"
     ]
    }
   ],
   "source": [
    "# Circle CI configuration file\n",
    "# https://circleci.com/docs/\n",
    "\n",
    "version: 2.1\n",
    "\n",
    "\n",
    "#######################################\n",
    "# Define some common steps as commands.\n",
    "#\n",
    "\n",
    "commands:\n",
    "  check-skip:\n",
    "    steps:\n",
    "      - run:\n",
    "          name: Check-skip\n",
    "          command: |\n",
    "            export git_log=$(git log --max-count=1 --pretty=format:\"%B\" | tr \"\\n\" \" \")\n",
    "            echo \"Got commit message:\"\n",
    "            echo \"${git_log}\"\n",
    "            if [[ -v CIRCLE_PULL_REQUEST ]] && ([[ \"$git_log\" == *\"[skip circle]\"* ]] || [[ \"$git_log\" == *\"[circle skip]\"* ]]); then\n",
    "              echo \"Skip detected, exiting job ${CIRCLE_JOB} for PR ${CIRCLE_PULL_REQUEST}.\"\n",
    "              circleci-agent step halt;\n",
    "            fi\n",
    "  merge:\n",
    "    steps:\n",
    "      - run:\n",
    "          name: Merge with upstream\n",
    "          command: |\n",
    "            if ! git remote -v | grep upstream; then\n",
    "              git remote add upstream https://github.com/matplotlib/matplotlib.git\n",
    "            fi\n",
    "            git fetch upstream\n",
    "            if [[ \"$CIRCLE_BRANCH\" != \"main\" ]] && \\\n",
    "               [[ \"$CIRCLE_PR_NUMBER\" != \"\" ]]; then\n",
    "              echo \"Merging ${CIRCLE_PR_NUMBER}\"\n",
    "              git pull --ff-only upstream \"refs/pull/${CIRCLE_PR_NUMBER}/merge\"\n",
    "            fi\n",
    "  apt-install:\n",
    "    steps:\n",
    "      - run:\n",
    "          name: Install apt packages\n",
    "          command: |\n",
    "            sudo apt -qq update\n",
    "            sudo apt install -y \\\n",
    "              inkscape \\\n",
    "              ffmpeg \\\n",
    "              dvipng \\\n",
    "              lmodern \\\n",
    "              cm-super \\\n",
    "              texlive-latex-base \\\n",
    "              texlive-latex-extra \\\n",
    "              texlive-fonts-recommended \\\n",
    "              texlive-latex-recommended \\\n",
    "              texlive-pictures \\\n",
    "              texlive-xetex \\\n",
    "              ttf-wqy-zenhei \\\n",
    "              graphviz \\\n",
    "              fonts-crosextra-carlito \\\n",
    "              fonts-freefont-otf \\\n",
    "              fonts-humor-sans \\\n",
    "              fonts-noto-cjk \\\n",
    "              optipng\n",
    "  fonts-install:\n",
    "    steps:\n",
    "      - restore_cache:\n",
    "          key: fonts-2\n",
    "      - run:\n",
    "          name: Install custom fonts\n",
    "          command: |\n",
    "            mkdir -p ~/.local/share/fonts\n",
    "            wget -nc https://github.com/google/fonts/blob/master/ofl/felipa/Felipa-Regular.ttf?raw=true -O ~/.local/share/fonts/Felipa-Regular.ttf || true\n",
    "            fc-cache -f -v\n",
    "      - save_cache:\n",
    "          key: fonts-2\n",
    "          paths:\n",
    "            - ~/.local/share/fonts/\n",
    "\n",
    "  pip-install:\n",
    "    description: Upgrade pip and setuptools and wheel to get as clean an install as possible\n",
    "    steps:\n",
    "      - run:\n",
    "          name: Upgrade pip, setuptools, wheel\n",
    "          command: |\n",
    "            python -m pip install --upgrade --user pip\n",
    "            python -m pip install --upgrade --user wheel\n",
    "            python -m pip install --upgrade --user 'setuptools!=60.6.0'\n",
    "  doc-deps-install:\n",
    "    parameters:\n",
    "      numpy_version:\n",
    "        type: string\n",
    "        default: \"\"\n",
    "    steps:\n",
    "      - run:\n",
    "          name: Install Python dependencies\n",
    "          command: |\n",
    "            python -m pip install --no-deps --user \\\n",
    "                git+https://github.com/matplotlib/mpl-sphinx-theme.git\n",
    "            python -m pip install --user \\\n",
    "                numpy<< parameters.numpy_version >> codecov coverage \\\n",
    "                -r requirements/doc/doc-requirements.txt\n",
    "  mpl-install:\n",
    "    steps:\n",
    "      - run:\n",
    "          name: Install Matplotlib\n",
    "          command: |\n",
    "            if [[ \"$CIRCLE_BRANCH\" == v*-doc ]]; then\n",
    "              # The v*-doc branches must build against the specified release.\n",
    "              version=${CIRCLE_BRANCH%-doc}\n",
    "              version=${version#v}\n",
    "              python -m pip install matplotlib==${version}\n",
    "            else\n",
    "              python -m pip install --user -ve .\n",
    "            fi\n",
    "      - save_cache:\n",
    "          key: build-deps-1\n",
    "          paths:\n",
    "            # FreeType 2.6.1 tarball.\n",
    "            - ~/.cache/matplotlib/0a3c7dfbda6da1e8fce29232e8e96d987ababbbf71ebc8c75659e4132c367014\n",
    "            # Qhull 2020.2 tarball.\n",
    "            - ~/.cache/matplotlib/b5c2d7eb833278881b952c8a52d20179eab87766b00b865000469a45c1838b7e\n",
    "\n",
    "  doc-build:\n",
    "    steps:\n",
    "      - restore_cache:\n",
    "          keys:\n",
    "            - sphinx-env-v1-{{ .BuildNum }}-{{ .Environment.CIRCLE_JOB }}\n",
    "            - sphinx-env-v1-{{ .Environment.CIRCLE_PREVIOUS_BUILD_NUM }}-{{ .Environment.CIRCLE_JOB }}\n",
    "      - run:\n",
    "          name: Build documentation\n",
    "          command: |\n",
    "            # Set epoch to date of latest tag.\n",
    "            export SOURCE_DATE_EPOCH=\"$(git log -1 --format=%at $(git describe --abbrev=0))\"\n",
    "            # Set release mode only when deploying to devdocs.\n",
    "            if [ \"$CIRCLE_PROJECT_USERNAME\" = \"matplotlib\" ] && \\\n",
    "               [ \"$CIRCLE_BRANCH\" = \"main\" ] && \\\n",
    "               [ \"$CIRCLE_PR_NUMBER\" = \"\" ]; then\n",
    "              export RELEASE_TAG='-t release'\n",
    "            fi\n",
    "            make html O=\"-T $RELEASE_TAG\"\n",
    "            rm -r build/html/_sources\n",
    "          working_directory: doc\n",
    "      - save_cache:\n",
    "          key: sphinx-env-v1-{{ .BuildNum }}-{{ .Environment.CIRCLE_JOB }}\n",
    "          paths:\n",
    "            - doc/build/doctrees\n",
    "\n",
    "  doc-bundle:\n",
    "    steps:\n",
    "      - run:\n",
    "          name: Bundle sphinx-gallery documentation artifacts\n",
    "          command: tar cf doc/build/sphinx-gallery-files.tar.gz doc/api/_as_gen doc/gallery doc/tutorials\n",
    "          when: always\n",
    "      - store_artifacts:\n",
    "          path: doc/build/sphinx-gallery-files.tar.gz\n",
    "\n",
    "\n",
    "##########################################\n",
    "# Here is where the real jobs are defined.\n",
    "#\n",
    "\n",
    "jobs:\n",
    "  docs-python38:\n",
    "    docker:\n",
    "      - image: cimg/python:3.8\n",
    "    steps:\n",
    "      - checkout\n",
    "      - check-skip\n",
    "      - merge\n",
    "\n",
    "      - apt-install\n",
    "      - fonts-install\n",
    "      - pip-install\n",
    "\n",
    "      - mpl-install\n",
    "      - doc-deps-install\n",
    "\n",
    "      - doc-build\n",
    "\n",
    "      - doc-bundle\n",
    "\n",
    "      - store_artifacts:\n",
    "          path: doc/build/html\n",
    "      - store_test_results:\n",
    "          path: doc/build/test-results\n",
    "\n",
    "      - add_ssh_keys:\n",
    "          fingerprints:\n",
    "            - \"6b:83:76:a5:7d:bd:ce:19:a4:e3:81:e0:80:16:a4:fe\"\n",
    "      - deploy:\n",
    "          name: \"Deploy new docs\"\n",
    "          command: ./.circleci/deploy-docs.sh\n",
    "\n",
    "#########################################\n",
    "# Defining workflows gets us parallelism.\n",
    "#\n",
    "\n",
    "workflows:\n",
    "  version: 2\n",
    "  build:\n",
    "    jobs:\n",
    "      - docs-python38"
   ]
  },
  {
   "cell_type": "code",
   "execution_count": 35,
   "metadata": {},
   "outputs": [
    {
     "ename": "ModuleNotFoundError",
     "evalue": "No module named 'ttk'",
     "output_type": "error",
     "traceback": [
      "\u001b[1;31m---------------------------------------------------------------------------\u001b[0m",
      "\u001b[1;31mModuleNotFoundError\u001b[0m                       Traceback (most recent call last)",
      "\u001b[1;32m<ipython-input-35-f1c7966de6b8>\u001b[0m in \u001b[0;36m<module>\u001b[1;34m()\u001b[0m\n\u001b[1;32m----> 1\u001b[1;33m \u001b[1;32mimport\u001b[0m \u001b[0mttk\u001b[0m\u001b[1;33m\u001b[0m\u001b[0m\n\u001b[0m",
      "\u001b[1;31mModuleNotFoundError\u001b[0m: No module named 'ttk'"
     ]
    }
   ],
   "source": [
    "import ttk"
   ]
  },
  {
   "cell_type": "code",
   "execution_count": 36,
   "metadata": {},
   "outputs": [],
   "source": [
    "import tkinter as tk\n",
    "from tkinter import ttk"
   ]
  },
  {
   "cell_type": "code",
   "execution_count": null,
   "metadata": {},
   "outputs": [],
   "source": []
  }
 ],
 "metadata": {
  "kernelspec": {
   "display_name": "Python 3",
   "language": "python",
   "name": "python3"
  },
  "language_info": {
   "codemirror_mode": {
    "name": "ipython",
    "version": 3
   },
   "file_extension": ".py",
   "mimetype": "text/x-python",
   "name": "python",
   "nbconvert_exporter": "python",
   "pygments_lexer": "ipython3",
   "version": "3.7.0"
  }
 },
 "nbformat": 4,
 "nbformat_minor": 2
}
