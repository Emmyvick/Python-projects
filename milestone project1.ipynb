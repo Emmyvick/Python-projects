{
 "cells": [
  {
   "cell_type": "code",
   "execution_count": 2,
   "metadata": {},
   "outputs": [],
   "source": [
    "def display_board(board):\n",
    "    \n",
    "    print('    |      | ')\n",
    "    print(' ' + board[7] +'  | '+ board[8] +'    | '+ board[9])\n",
    "    print('    |      | ')\n",
    "    print('---------------')\n",
    "    print('    |      | ')\n",
    "    print(' ' + board[4] +'  | '+ board[5] +'    | '+ board[6])\n",
    "    print('    |      | ')\n",
    "    print('-----------------')\n",
    "    print('    |      | ')\n",
    "    print(' ' + board[1] +'  | '+ board[2] +'    | '+ board[3])\n",
    "    print('    |      | ')\n"
   ]
  },
  {
   "cell_type": "code",
   "execution_count": 11,
   "metadata": {
    "scrolled": false
   },
   "outputs": [
    {
     "name": "stdout",
     "output_type": "stream",
     "text": [
      "    |      | \n",
      " x  | o    | o\n",
      "    |      | \n",
      "---------------\n",
      "    |      | \n",
      " o  | x    | o\n",
      "    |      | \n",
      "-----------------\n",
      "    |      | \n",
      " x  | o    | x\n",
      "    |      | \n"
     ]
    }
   ],
   "source": [
    "test_board = ['#','x','o','x','o','x','o','x','o','o']\n",
    "display_board(test_board)\n"
   ]
  },
  {
   "cell_type": "raw",
   "metadata": {},
   "source": [
    " def player_input():\n",
    " \n",
    "     '''\n",
    "     OUTPUT =(player 1, player 2 marker)\n",
    "     '''\n",
    " \n",
    "   marker = ''\n",
    "   \n",
    "   while  marker != 'X' and marker != 'O':\n",
    "        marker = input('player1: choose X or O: ')\n",
    "        if marker == 'X':\n",
    "           \n",
    "           return ('X' or 'O')\n",
    "        \n",
    "         else:\n",
    "              return ('O','X')"
   ]
  },
  {
   "cell_type": "markdown",
   "metadata": {},
   "source": [
    "player1_marker , player2_marker = player_input"
   ]
  },
  {
   "cell_type": "code",
   "execution_count": null,
   "metadata": {},
   "outputs": [],
   "source": []
  },
  {
   "cell_type": "code",
   "execution_count": null,
   "metadata": {},
   "outputs": [],
   "source": [
    "def display_board(board):\n",
    "    \n",
    "    print('    |      | ')\n",
    "    print(' ' + board[7] +'  | '+ board[8] +'    | '+ board[9])\n",
    "    print('    |      | ')\n",
    "    print('---------------')\n",
    "    print('    |      | ')\n",
    "    print(' ' + board[4] +'  | '+ board[5] +'    | '+ board[6])\n",
    "    print('    |      | ')\n",
    "    print('-----------------')\n",
    "    print('    |      | ')\n",
    "    print(' ' + board[1] +'  | '+ board[2] +'    | '+ board[3])\n",
    "    print('    |      | ')"
   ]
  },
  {
   "cell_type": "code",
   "execution_count": null,
   "metadata": {},
   "outputs": [],
   "source": []
  },
  {
   "cell_type": "code",
   "execution_count": 4,
   "metadata": {},
   "outputs": [],
   "source": [
    "def display_board(board):\n",
    "    \n",
    "    print('    |      | ')\n",
    "    print(' ' + board[7] +'  | '+ board[8] +'    | '+ board[9])\n",
    "    print('    |      | ')\n",
    "     print('---------------')\n",
    "    print('    |      | ')\n",
    "    print(' ' + board[4] +'  | '+ board[5] +'    | '+ board[6])\n",
    "    print('    |      | ')\n",
    "    print('-----------------')\n",
    "    print('    |      | ')\n",
    "    print(' ' + board[1] +'  | '+ board[2] +'    | '+ board[3])\n",
    "    print('    |      | ')\n"
   ]
  },
  {
   "cell_type": "code",
   "execution_count": 5,
   "metadata": {},
   "outputs": [
    {
     "name": "stdout",
     "output_type": "stream",
     "text": [
      "    |      | \n",
      " x  | o    | x\n",
      "    |      | \n",
      "---------------\n",
      "    |      | \n",
      " o  | x    | o\n",
      "    |      | \n",
      "-----------------\n",
      "    |      | \n",
      " x  | o    | x\n",
      "    |      | \n"
     ]
    }
   ],
   "source": [
    "test_board = ['#','x','o','x','o','x','o','x','o','x']\n",
    "display_board(test_board)\n"
   ]
  },
  {
   "cell_type": "code",
   "execution_count": null,
   "metadata": {},
   "outputs": [],
   "source": [
    " def player_input():\n",
    " \n",
    "     '''\n",
    "     OUTPUT =(player 1, player 2 marker)\n",
    "     '''\n",
    " \n",
    "     marker = ' '\n",
    "   \n",
    "     while not  (marker == 'x' or marker == 'o'):\n",
    "          marker = input('player1: choose x or o: ').upper()\n",
    "                 \n",
    "     if marker == 'x':\n",
    "        \n",
    "            return ('x','o') \n",
    "     else:\n",
    "            return ('o','x')"
   ]
  },
  {
   "cell_type": "code",
   "execution_count": null,
   "metadata": {},
   "outputs": [],
   "source": [
    "player1_marker , player2_marker = player_input()"
   ]
  },
  {
   "cell_type": "code",
   "execution_count": null,
   "metadata": {},
   "outputs": [],
   "source": []
  },
  {
   "cell_type": "code",
   "execution_count": null,
   "metadata": {},
   "outputs": [],
   "source": []
  },
  {
   "cell_type": "code",
   "execution_count": null,
   "metadata": {},
   "outputs": [],
   "source": []
  },
  {
   "cell_type": "code",
   "execution_count": null,
   "metadata": {},
   "outputs": [],
   "source": []
  },
  {
   "cell_type": "code",
   "execution_count": null,
   "metadata": {},
   "outputs": [],
   "source": [
    " def player_input():\n",
    " \n",
    "     '''\n",
    "     OUTPUT =(player 1, player 2 marker)\n",
    "     '''\n",
    " \n",
    "   marker = ''\n",
    "   \n",
    "   while marker != 'x' and marker != 'o':\n",
    "    \n",
    "    marker = input('player1: choose x or o: ')\n",
    "        \n",
    "    if marker == 'x':\n",
    "        \n",
    "            return ('x','o') \n",
    "    else:\n",
    "            return ('o','x')"
   ]
  },
  {
   "cell_type": "code",
   "execution_count": null,
   "metadata": {},
   "outputs": [],
   "source": [
    "player1_marker , player2_marker = player_input()"
   ]
  },
  {
   "cell_type": "code",
   "execution_count": null,
   "metadata": {},
   "outputs": [],
   "source": []
  },
  {
   "cell_type": "code",
   "execution_count": null,
   "metadata": {},
   "outputs": [],
   "source": []
  }
 ],
 "metadata": {
  "kernelspec": {
   "display_name": "Python 3",
   "language": "python",
   "name": "python3"
  }
 },
 "nbformat": 4,
 "nbformat_minor": 2
}
